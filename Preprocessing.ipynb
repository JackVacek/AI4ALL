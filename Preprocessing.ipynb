{
 "cells": [
  {
   "cell_type": "markdown",
   "id": "bffd72b3-4b23-4716-bebc-b6a70ab780cd",
   "metadata": {},
   "source": [
    "# Salary prediction notebook"
   ]
  },
  {
   "cell_type": "markdown",
   "id": "73ff0c76-1637-4c1d-929d-eb424b9298d9",
   "metadata": {},
   "source": [
    "### Introduction, objectives etc"
   ]
  },
  {
   "cell_type": "code",
   "execution_count": 2,
   "id": "8871b043-51d2-4488-bd5d-3008b6a7066f",
   "metadata": {},
   "outputs": [],
   "source": [
    "import pandas as pd\n",
    "from scipy.stats import zscore"
   ]
  },
  {
   "cell_type": "code",
   "execution_count": 3,
   "id": "35e83bce-7d8b-403f-92b0-d680cf148034",
   "metadata": {},
   "outputs": [
    {
     "data": {
      "text/html": [
       "<div>\n",
       "<style scoped>\n",
       "    .dataframe tbody tr th:only-of-type {\n",
       "        vertical-align: middle;\n",
       "    }\n",
       "\n",
       "    .dataframe tbody tr th {\n",
       "        vertical-align: top;\n",
       "    }\n",
       "\n",
       "    .dataframe thead th {\n",
       "        text-align: right;\n",
       "    }\n",
       "</style>\n",
       "<table border=\"1\" class=\"dataframe\">\n",
       "  <thead>\n",
       "    <tr style=\"text-align: right;\">\n",
       "      <th></th>\n",
       "      <th>Age</th>\n",
       "      <th>Gender</th>\n",
       "      <th>Education Level</th>\n",
       "      <th>Job Title</th>\n",
       "      <th>Years of Experience</th>\n",
       "      <th>Salary</th>\n",
       "    </tr>\n",
       "  </thead>\n",
       "  <tbody>\n",
       "    <tr>\n",
       "      <th>0</th>\n",
       "      <td>32.0</td>\n",
       "      <td>Male</td>\n",
       "      <td>Bachelor's</td>\n",
       "      <td>Software Engineer</td>\n",
       "      <td>5.0</td>\n",
       "      <td>90000.0</td>\n",
       "    </tr>\n",
       "    <tr>\n",
       "      <th>1</th>\n",
       "      <td>28.0</td>\n",
       "      <td>Female</td>\n",
       "      <td>Master's</td>\n",
       "      <td>Data Analyst</td>\n",
       "      <td>3.0</td>\n",
       "      <td>65000.0</td>\n",
       "    </tr>\n",
       "    <tr>\n",
       "      <th>2</th>\n",
       "      <td>45.0</td>\n",
       "      <td>Male</td>\n",
       "      <td>PhD</td>\n",
       "      <td>Senior Manager</td>\n",
       "      <td>15.0</td>\n",
       "      <td>150000.0</td>\n",
       "    </tr>\n",
       "    <tr>\n",
       "      <th>3</th>\n",
       "      <td>36.0</td>\n",
       "      <td>Female</td>\n",
       "      <td>Bachelor's</td>\n",
       "      <td>Sales Associate</td>\n",
       "      <td>7.0</td>\n",
       "      <td>60000.0</td>\n",
       "    </tr>\n",
       "    <tr>\n",
       "      <th>4</th>\n",
       "      <td>52.0</td>\n",
       "      <td>Male</td>\n",
       "      <td>Master's</td>\n",
       "      <td>Director</td>\n",
       "      <td>20.0</td>\n",
       "      <td>200000.0</td>\n",
       "    </tr>\n",
       "  </tbody>\n",
       "</table>\n",
       "</div>"
      ],
      "text/plain": [
       "    Age  Gender Education Level          Job Title  Years of Experience  \\\n",
       "0  32.0    Male      Bachelor's  Software Engineer                  5.0   \n",
       "1  28.0  Female        Master's       Data Analyst                  3.0   \n",
       "2  45.0    Male             PhD     Senior Manager                 15.0   \n",
       "3  36.0  Female      Bachelor's    Sales Associate                  7.0   \n",
       "4  52.0    Male        Master's           Director                 20.0   \n",
       "\n",
       "     Salary  \n",
       "0   90000.0  \n",
       "1   65000.0  \n",
       "2  150000.0  \n",
       "3   60000.0  \n",
       "4  200000.0  "
      ]
     },
     "execution_count": 3,
     "metadata": {},
     "output_type": "execute_result"
    }
   ],
   "source": [
    "df = pd.read_csv(\"Salary_Data.csv\")\n",
    "df.head()"
   ]
  },
  {
   "cell_type": "markdown",
   "id": "22b3031c-d162-4772-be63-53bc79eb1d34",
   "metadata": {},
   "source": [
    "# EDA"
   ]
  },
  {
   "cell_type": "markdown",
   "id": "f0df515e-ecc4-4e91-97eb-10f088c0f7ac",
   "metadata": {},
   "source": [
    "## Univariate analysis"
   ]
  },
  {
   "cell_type": "markdown",
   "id": "6dded83f-28eb-481d-b9cb-ecca7584b9ed",
   "metadata": {},
   "source": [
    " Each category\n",
    "\n",
    "- missing values?\n",
    "- outliers?\n",
    "- how many categories for \"education\"\n",
    "- how mnay categories for \"job title\"\n",
    "- distribution of years of experience? "
   ]
  },
  {
   "cell_type": "code",
   "execution_count": 4,
   "id": "53a14251",
   "metadata": {},
   "outputs": [
    {
     "data": {
      "text/plain": [
       "Age                    2\n",
       "Gender                 2\n",
       "Education Level        3\n",
       "Job Title              2\n",
       "Years of Experience    3\n",
       "Salary                 5\n",
       "dtype: int64"
      ]
     },
     "execution_count": 4,
     "metadata": {},
     "output_type": "execute_result"
    }
   ],
   "source": [
    "df.isna().sum()"
   ]
  },
  {
   "cell_type": "code",
   "execution_count": 5,
   "id": "304d1f3a",
   "metadata": {},
   "outputs": [
    {
     "data": {
      "text/html": [
       "<div>\n",
       "<style scoped>\n",
       "    .dataframe tbody tr th:only-of-type {\n",
       "        vertical-align: middle;\n",
       "    }\n",
       "\n",
       "    .dataframe tbody tr th {\n",
       "        vertical-align: top;\n",
       "    }\n",
       "\n",
       "    .dataframe thead th {\n",
       "        text-align: right;\n",
       "    }\n",
       "</style>\n",
       "<table border=\"1\" class=\"dataframe\">\n",
       "  <thead>\n",
       "    <tr style=\"text-align: right;\">\n",
       "      <th></th>\n",
       "      <th>Age</th>\n",
       "      <th>Years of Experience</th>\n",
       "      <th>Salary</th>\n",
       "    </tr>\n",
       "  </thead>\n",
       "  <tbody>\n",
       "    <tr>\n",
       "      <th>count</th>\n",
       "      <td>6702.000000</td>\n",
       "      <td>6701.000000</td>\n",
       "      <td>6699.000000</td>\n",
       "    </tr>\n",
       "    <tr>\n",
       "      <th>mean</th>\n",
       "      <td>33.620859</td>\n",
       "      <td>8.094687</td>\n",
       "      <td>115326.964771</td>\n",
       "    </tr>\n",
       "    <tr>\n",
       "      <th>std</th>\n",
       "      <td>7.614633</td>\n",
       "      <td>6.059003</td>\n",
       "      <td>52786.183911</td>\n",
       "    </tr>\n",
       "    <tr>\n",
       "      <th>min</th>\n",
       "      <td>21.000000</td>\n",
       "      <td>0.000000</td>\n",
       "      <td>350.000000</td>\n",
       "    </tr>\n",
       "    <tr>\n",
       "      <th>25%</th>\n",
       "      <td>28.000000</td>\n",
       "      <td>3.000000</td>\n",
       "      <td>70000.000000</td>\n",
       "    </tr>\n",
       "    <tr>\n",
       "      <th>50%</th>\n",
       "      <td>32.000000</td>\n",
       "      <td>7.000000</td>\n",
       "      <td>115000.000000</td>\n",
       "    </tr>\n",
       "    <tr>\n",
       "      <th>75%</th>\n",
       "      <td>38.000000</td>\n",
       "      <td>12.000000</td>\n",
       "      <td>160000.000000</td>\n",
       "    </tr>\n",
       "    <tr>\n",
       "      <th>max</th>\n",
       "      <td>62.000000</td>\n",
       "      <td>34.000000</td>\n",
       "      <td>250000.000000</td>\n",
       "    </tr>\n",
       "  </tbody>\n",
       "</table>\n",
       "</div>"
      ],
      "text/plain": [
       "               Age  Years of Experience         Salary\n",
       "count  6702.000000          6701.000000    6699.000000\n",
       "mean     33.620859             8.094687  115326.964771\n",
       "std       7.614633             6.059003   52786.183911\n",
       "min      21.000000             0.000000     350.000000\n",
       "25%      28.000000             3.000000   70000.000000\n",
       "50%      32.000000             7.000000  115000.000000\n",
       "75%      38.000000            12.000000  160000.000000\n",
       "max      62.000000            34.000000  250000.000000"
      ]
     },
     "execution_count": 5,
     "metadata": {},
     "output_type": "execute_result"
    }
   ],
   "source": [
    "df.describe()\n"
   ]
  },
  {
   "cell_type": "code",
   "execution_count": 6,
   "id": "e53949ef",
   "metadata": {},
   "outputs": [
    {
     "data": {
      "text/plain": [
       "count    6702.000000\n",
       "mean       33.620859\n",
       "std         7.614633\n",
       "min        21.000000\n",
       "25%        28.000000\n",
       "50%        32.000000\n",
       "75%        38.000000\n",
       "max        62.000000\n",
       "Name: Age, dtype: float64"
      ]
     },
     "execution_count": 6,
     "metadata": {},
     "output_type": "execute_result"
    }
   ],
   "source": [
    "df['Age'].describe()"
   ]
  },
  {
   "cell_type": "code",
   "execution_count": 7,
   "id": "119c86c2",
   "metadata": {},
   "outputs": [
    {
     "data": {
      "text/html": [
       "<div>\n",
       "<style scoped>\n",
       "    .dataframe tbody tr th:only-of-type {\n",
       "        vertical-align: middle;\n",
       "    }\n",
       "\n",
       "    .dataframe tbody tr th {\n",
       "        vertical-align: top;\n",
       "    }\n",
       "\n",
       "    .dataframe thead th {\n",
       "        text-align: right;\n",
       "    }\n",
       "</style>\n",
       "<table border=\"1\" class=\"dataframe\">\n",
       "  <thead>\n",
       "    <tr style=\"text-align: right;\">\n",
       "      <th></th>\n",
       "      <th>Age</th>\n",
       "      <th>Years of Experience</th>\n",
       "      <th>Salary</th>\n",
       "    </tr>\n",
       "  </thead>\n",
       "  <tbody>\n",
       "    <tr>\n",
       "      <th>0</th>\n",
       "      <td>-0.212877</td>\n",
       "      <td>-0.510797</td>\n",
       "      <td>-0.479839</td>\n",
       "    </tr>\n",
       "    <tr>\n",
       "      <th>1</th>\n",
       "      <td>-0.738221</td>\n",
       "      <td>-0.840909</td>\n",
       "      <td>-0.953483</td>\n",
       "    </tr>\n",
       "    <tr>\n",
       "      <th>2</th>\n",
       "      <td>1.494490</td>\n",
       "      <td>1.139763</td>\n",
       "      <td>0.656907</td>\n",
       "    </tr>\n",
       "    <tr>\n",
       "      <th>3</th>\n",
       "      <td>0.312467</td>\n",
       "      <td>-0.180685</td>\n",
       "      <td>-1.048212</td>\n",
       "    </tr>\n",
       "    <tr>\n",
       "      <th>4</th>\n",
       "      <td>2.413841</td>\n",
       "      <td>1.965043</td>\n",
       "      <td>1.604195</td>\n",
       "    </tr>\n",
       "  </tbody>\n",
       "</table>\n",
       "</div>"
      ],
      "text/plain": [
       "        Age  Years of Experience    Salary\n",
       "0 -0.212877            -0.510797 -0.479839\n",
       "1 -0.738221            -0.840909 -0.953483\n",
       "2  1.494490             1.139763  0.656907\n",
       "3  0.312467            -0.180685 -1.048212\n",
       "4  2.413841             1.965043  1.604195"
      ]
     },
     "execution_count": 7,
     "metadata": {},
     "output_type": "execute_result"
    }
   ],
   "source": [
    "features_considered = ['Age', 'Years of Experience', 'Salary']\n",
    "z_scores = zscore(df[features_considered], nan_policy = 'omit')\n",
    "z_scores.head()"
   ]
  },
  {
   "cell_type": "markdown",
   "id": "365f4dc1-5bab-4e73-91e5-332510a73efc",
   "metadata": {},
   "source": [
    "# Bivariate analysis\n",
    "\n",
    "- Correlation between years of experience and salary\n",
    "- scatterplots\n",
    "- boxplots (all variables against salary and see if median is similar) \n",
    "    to understand what factors really affect salary\n",
    "- categorical variables and their relationships\n",
    "- how variables relate to salary"
   ]
  },
  {
   "cell_type": "code",
   "execution_count": 12,
   "id": "dcce5f2f",
   "metadata": {},
   "outputs": [
    {
     "data": {
      "text/plain": [
       "<bound method IndexOpsMixin.value_counts of 0           Software Engineer\n",
       "1                Data Analyst\n",
       "2              Senior Manager\n",
       "3             Sales Associate\n",
       "4                    Director\n",
       "                ...          \n",
       "6699    Director of Marketing\n",
       "6700          Sales Associate\n",
       "6701        Financial Manager\n",
       "6702        Marketing Manager\n",
       "6703          Sales Executive\n",
       "Name: Job Title, Length: 6704, dtype: object>"
      ]
     },
     "execution_count": 12,
     "metadata": {},
     "output_type": "execute_result"
    }
   ],
   "source": [
    "df[\"Job Title\"].value_counts"
   ]
  },
  {
   "cell_type": "code",
   "execution_count": 13,
   "id": "dd553ac9",
   "metadata": {},
   "outputs": [
    {
     "name": "stdout",
     "output_type": "stream",
     "text": [
      "['Software Engineer' 'Data Analyst' 'Senior Manager' 'Sales Associate'\n",
      " 'Director' 'Marketing Analyst' 'Product Manager' 'Sales Manager'\n",
      " 'Marketing Coordinator' 'Senior Scientist' 'Software Developer'\n",
      " 'HR Manager' 'Financial Analyst' 'Project Manager' 'Customer Service Rep'\n",
      " 'Operations Manager' 'Marketing Manager' 'Senior Engineer'\n",
      " 'Data Entry Clerk' 'Sales Director' 'Business Analyst' 'VP of Operations'\n",
      " 'IT Support' 'Recruiter' 'Financial Manager' 'Social Media Specialist'\n",
      " 'Software Manager' 'Junior Developer' 'Senior Consultant'\n",
      " 'Product Designer' 'CEO' 'Accountant' 'Data Scientist'\n",
      " 'Marketing Specialist' 'Technical Writer' 'HR Generalist'\n",
      " 'Project Engineer' 'Customer Success Rep' 'Sales Executive' 'UX Designer'\n",
      " 'Operations Director' 'Network Engineer' 'Administrative Assistant'\n",
      " 'Strategy Consultant' 'Copywriter' 'Account Manager'\n",
      " 'Director of Marketing' 'Help Desk Analyst' 'Customer Service Manager'\n",
      " 'Business Intelligence Analyst' 'Event Coordinator' 'VP of Finance'\n",
      " 'Graphic Designer' 'UX Researcher' 'Social Media Manager'\n",
      " 'Director of Operations' 'Senior Data Scientist' 'Junior Accountant'\n",
      " 'Digital Marketing Manager' 'IT Manager'\n",
      " 'Customer Service Representative' 'Business Development Manager'\n",
      " 'Senior Financial Analyst' 'Web Developer' 'Research Director'\n",
      " 'Technical Support Specialist' 'Creative Director'\n",
      " 'Senior Software Engineer' 'Human Resources Director'\n",
      " 'Content Marketing Manager' 'Technical Recruiter' 'Sales Representative'\n",
      " 'Chief Technology Officer' 'Junior Designer' 'Financial Advisor'\n",
      " 'Junior Account Manager' 'Senior Project Manager' 'Principal Scientist'\n",
      " 'Supply Chain Manager' 'Senior Marketing Manager' 'Training Specialist'\n",
      " 'Research Scientist' 'Junior Software Developer'\n",
      " 'Public Relations Manager' 'Operations Analyst'\n",
      " 'Product Marketing Manager' 'Senior HR Manager' 'Junior Web Developer'\n",
      " 'Senior Project Coordinator' 'Chief Data Officer'\n",
      " 'Digital Content Producer' 'IT Support Specialist'\n",
      " 'Senior Marketing Analyst' 'Customer Success Manager'\n",
      " 'Senior Graphic Designer' 'Software Project Manager'\n",
      " 'Supply Chain Analyst' 'Senior Business Analyst'\n",
      " 'Junior Marketing Analyst' 'Office Manager' 'Principal Engineer'\n",
      " 'Junior HR Generalist' 'Senior Product Manager'\n",
      " 'Junior Operations Analyst' 'Senior HR Generalist'\n",
      " 'Sales Operations Manager' 'Senior Software Developer'\n",
      " 'Junior Web Designer' 'Senior Training Specialist'\n",
      " 'Senior Research Scientist' 'Junior Sales Representative'\n",
      " 'Junior Marketing Manager' 'Junior Data Analyst'\n",
      " 'Senior Product Marketing Manager' 'Junior Business Analyst'\n",
      " 'Senior Sales Manager' 'Junior Marketing Specialist'\n",
      " 'Junior Project Manager' 'Senior Accountant' 'Director of Sales'\n",
      " 'Junior Recruiter' 'Senior Business Development Manager'\n",
      " 'Senior Product Designer' 'Junior Customer Support Specialist'\n",
      " 'Senior IT Support Specialist' 'Junior Financial Analyst'\n",
      " 'Senior Operations Manager' 'Director of Human Resources'\n",
      " 'Junior Software Engineer' 'Senior Sales Representative'\n",
      " 'Director of Product Management' 'Junior Copywriter'\n",
      " 'Senior Marketing Coordinator' 'Senior Human Resources Manager'\n",
      " 'Junior Business Development Associate' 'Senior Account Manager'\n",
      " 'Senior Researcher' 'Junior HR Coordinator' 'Director of Finance'\n",
      " 'Junior Marketing Coordinator' nan 'Junior Data Scientist'\n",
      " 'Senior Operations Analyst' 'Senior Human Resources Coordinator'\n",
      " 'Senior UX Designer' 'Junior Product Manager'\n",
      " 'Senior Marketing Specialist' 'Senior IT Project Manager'\n",
      " 'Senior Quality Assurance Analyst' 'Director of Sales and Marketing'\n",
      " 'Senior Account Executive' 'Director of Business Development'\n",
      " 'Junior Social Media Manager' 'Senior Human Resources Specialist'\n",
      " 'Senior Data Analyst' 'Director of Human Capital'\n",
      " 'Junior Advertising Coordinator' 'Junior UX Designer'\n",
      " 'Senior Marketing Director' 'Senior IT Consultant'\n",
      " 'Senior Financial Advisor' 'Junior Business Operations Analyst'\n",
      " 'Junior Social Media Specialist' 'Senior Product Development Manager'\n",
      " 'Junior Operations Manager' 'Senior Software Architect'\n",
      " 'Junior Research Scientist' 'Senior Financial Manager'\n",
      " 'Senior HR Specialist' 'Senior Data Engineer'\n",
      " 'Junior Operations Coordinator' 'Director of HR'\n",
      " 'Senior Operations Coordinator' 'Junior Financial Advisor'\n",
      " 'Director of Engineering' 'Software Engineer Manager'\n",
      " 'Back end Developer' 'Senior Project Engineer' 'Full Stack Engineer'\n",
      " 'Front end Developer' 'Developer' 'Front End Developer'\n",
      " 'Director of Data Science' 'Human Resources Coordinator'\n",
      " 'Junior Sales Associate' 'Human Resources Manager'\n",
      " 'Juniour HR Generalist' 'Juniour HR Coordinator'\n",
      " 'Digital Marketing Specialist' 'Receptionist' 'Marketing Director'\n",
      " 'Social M' 'Social Media Man' 'Delivery Driver']\n"
     ]
    }
   ],
   "source": [
    "unique_values = df['Job Title'].unique()\n",
    "\n",
    "print(unique_values)"
   ]
  },
  {
   "cell_type": "code",
   "execution_count": 20,
   "id": "abc918be",
   "metadata": {},
   "outputs": [
    {
     "name": "stdout",
     "output_type": "stream",
     "text": [
      "\n",
      "Sales Associate\n",
      "Director\n",
      "Marketing Analyst\n",
      "Product Manager\n",
      "Sales Manager\n",
      "Marketing Coordinator\n",
      "Senior Scientist\n",
      "HR Manager\n",
      "Financial Analyst\n",
      "Project Manager\n",
      "Customer Service Rep\n",
      "Operations Manager\n",
      "Marketing Manager\n",
      "Senior Engineer\n",
      "Sales Director\n",
      "Business Analyst\n",
      "VP of Operation\n",
      "Recruiter\n",
      "Financial Manager\n",
      "Social Media Specialist\n",
      "Senior Consultant\n",
      "Product Designer\n",
      "CEO\n",
      "Accountant\n",
      "Marketing Specialist\n",
      "Technical Writer\n",
      "HR Generalist\n",
      "Project Engineer\n",
      "Customer Success Rep\n",
      "Sales Executive\n",
      "Operations Director\n",
      "Administrative Assistant\n",
      "Strategy Consultant\n",
      "Copywriter\n",
      "Account Manager\n",
      "Director of Marketing\n",
      "Customer Service Manager\n",
      "Business Intelligence Analyst\n",
      "Event Coordinator\n",
      "VP of Finance\n",
      "Graphic Designer\n",
      "Social Media Manager\n",
      "Director of Operations\n",
      "Junior Accountant\n",
      "Digital Marketing Manager\n",
      "Customer Service Representative\n",
      "Business Development Manager\n",
      "Senior Financial Analyst\n",
      "Research Director\n",
      "Creative Director\n",
      "Human Resources Director\n",
      "Content Marketing Manager\n",
      "Technical Recruiter\n",
      "Sales Representative\n",
      "unior Designer\n",
      "Financial Advisor\n",
      "Junior Account Manager\n",
      "Senior Project Manager\n",
      "Principal Scientist\n",
      "Supply Chain Manager\n",
      "Senior Marketing Manager\n",
      "Training Specialist\n",
      "Research Scientist\n",
      "Public Relations Manager\n",
      "Operations Analyst\n",
      "Product Marketing Manager\n",
      "Senior HR Manager\n",
      "Senior Project Coordinator\n",
      "Digital Content Producer\n",
      "Senior Marketing Analyst\n",
      "Customer Success Manager\n",
      "Senior Graphic Designer\n",
      "Supply Chain Analyst\n",
      "Senior Business Analyst\n",
      "Junior Marketing Analyst\n",
      "Office Manager\n",
      "Principal Engineer\n",
      "Junior HR Generalist\n",
      "Senior Product Manager\n",
      "Junior Operations Analyst\n",
      "Senior HR Generalist\n",
      "Sales Operations Manager\n",
      "Senior Training Specialist\n",
      "Senior Research Scientist\n",
      "Junior Sales Representative\n",
      "Junior Marketing Manager\n",
      "Senior Product Marketing Manager\n",
      "Junior Business Analyst\n",
      "Senior Sales Manager\n",
      "Junior Marketing Specialist\n",
      "Junior Project Manager\n",
      "Senior Accountant\n",
      "Director of Sales\n",
      "Junior Recruiter\n",
      "Senior Business Development Manager\n",
      "Senior Product Designer\n",
      "Junior Customer Support Specialist\n",
      "Junior Financial Analyst\n",
      "Senior Operations Manager\n",
      "Director of Human Resources\n",
      "Senior Sales Representative\n",
      "Director of Product Management\n",
      "Junior Copywriter\n",
      "Senior Marketing Coordinator\n",
      "Senior Human Resources Manager\n",
      "Junior Business Development Associate\n",
      "Senior Account Manager\n",
      "Senior Researcher\n",
      "Junior HR Coordinator\n",
      "Director of Finance\n",
      "Junior Marketing Coordinator\n",
      "Senior Operations Analyst\n",
      "Senior Human Resources Coordinator\n",
      "Junior Product Manager\n",
      "Senior Marketing Specialist\n",
      "Senior Quality Assurance Analyst\n",
      "Director of Sales and Marketing\n",
      "Senior Account Executive\n",
      "Director of Business Development\n",
      "Junior Social Media Manager\n",
      "Senior Human Resources Specialist\n",
      "Director of Human Capital\n",
      "Junior Advertising Coordinator\n",
      "Senior Marketing Director\n",
      "Senior Financial Advisor\n",
      "Junior Business Operations Analyst\n",
      "Junior Social Media Specialist\n",
      "Senior Product Development Manager\n",
      "Junior Operations Manager\n",
      "Junior Research Scientist\n",
      "Senior Financial Manager\n",
      "Senior HR Specialist\n",
      "Junior Operations Coordinator\n",
      "Director of HR\n",
      "Senior Operations Coordinator\n",
      "Junior Financial Advisor\n",
      "Director of Engineering\n",
      "Human Resources Coordinator\n",
      "Junior Sales Associate\n",
      "Human Resources Manager\n",
      "Juniour HR Generalist\n",
      "Juniour HR Coordinator\n",
      "Digital Marketing Specialist\n",
      "Receptionist\n",
      "Marketing Director\n",
      "Social M\n",
      "Social Media Man\n",
      "Delivery Driver\n"
     ]
    }
   ],
   "source": [
    "to_read = open(\"Non_CS_Jobs.txt\")\n",
    "Non_CS_Jobs = []\n",
    "while(True):\n",
    "    content = to_read.readline()\n",
    "    if not content:\n",
    "        break\n",
    "    content = content.strip()\n",
    "    Non_CS_Jobs.add(content[1: (len(content) - 1)])\n",
    "\n",
    "    print(content[1: (len(content) - 1)])"
   ]
  },
  {
   "cell_type": "markdown",
   "id": "35d1f278",
   "metadata": {},
   "source": [
    "Filtering out non CS jobs "
   ]
  },
  {
   "cell_type": "code",
   "execution_count": 41,
   "id": "24a855c1",
   "metadata": {},
   "outputs": [
    {
     "name": "stdout",
     "output_type": "stream",
     "text": [
      "6701\n",
      "3642\n"
     ]
    },
    {
     "data": {
      "text/plain": [
       "<bound method NDFrame.head of        Age  Gender    Education Level           Job Title  \\\n",
       "0     32.0    Male         Bachelor's   Software Engineer   \n",
       "1     28.0  Female           Master's        Data Analyst   \n",
       "2     45.0    Male                PhD      Senior Manager   \n",
       "10    29.0    Male           Master's  Software Developer   \n",
       "18    25.0  Female         Bachelor's    Data Entry Clerk   \n",
       "...    ...     ...                ...                 ...   \n",
       "6227  32.0  Female                PhD      Data Scientist   \n",
       "6230  27.0    Male  Bachelor's Degree   Software Engineer   \n",
       "6241  32.0  Female                PhD      Data Scientist   \n",
       "6244  27.0    Male  Bachelor's Degree   Software Engineer   \n",
       "6255  32.0  Female                PhD      Data Scientist   \n",
       "\n",
       "      Years of Experience    Salary  \n",
       "0                     5.0   90000.0  \n",
       "1                     3.0   65000.0  \n",
       "2                    15.0  150000.0  \n",
       "10                    3.0   75000.0  \n",
       "18                    0.0   35000.0  \n",
       "...                   ...       ...  \n",
       "6227                  9.0  145000.0  \n",
       "6230                  3.0   80000.0  \n",
       "6241                  9.0  145000.0  \n",
       "6244                  3.0   80000.0  \n",
       "6255                  9.0  145000.0  \n",
       "\n",
       "[3642 rows x 6 columns]>"
      ]
     },
     "execution_count": 41,
     "metadata": {},
     "output_type": "execute_result"
    }
   ],
   "source": [
    "print(len(df.index))\n",
    "mask = ~df['Job Title'].isin(Non_CS_Jobs)\n",
    "\n",
    "# Filter the DataFrame using the mask\n",
    "filtered_df = df[mask]\n",
    "\n",
    "\n",
    "\n",
    "print(len(filtered_df.index))\n",
    "filtered_df.head\n"
   ]
  },
  {
   "cell_type": "markdown",
   "id": "c95d3b55",
   "metadata": {},
   "source": [
    "Filtering out null values"
   ]
  },
  {
   "cell_type": "code",
   "execution_count": 44,
   "id": "3a1c37d9",
   "metadata": {},
   "outputs": [
    {
     "name": "stdout",
     "output_type": "stream",
     "text": [
      "3641\n",
      "3641\n",
      "0\n"
     ]
    }
   ],
   "source": [
    "print(len(filtered_df.index))\n",
    "filtered_df = filtered_df.dropna(subset = ['Gender']).reset_index(drop = True)\n",
    "filtered_df = filtered_df.dropna(subset = ['Education Level']).reset_index(drop = True)\n",
    "filtered_df = filtered_df.dropna(subset = ['Job Title']).reset_index(drop = True)\n",
    "filtered_df = filtered_df.dropna(subset = ['Salary']).reset_index(drop = True)\n",
    "\n",
    "filtered_df.isna().sum()[filtered_df.isna().sum()>0]\n",
    "\n",
    "print(len(filtered_df.index))\n",
    "filtered_df.isna().sum()\n",
    "\n",
    "#there are 0 negative salaries in the dataset, or all salaries are valid\n",
    "condition = filtered_df['Salary'] < 0\n",
    "count = condition.sum()\n",
    "print(count)"
   ]
  },
  {
   "cell_type": "markdown",
   "id": "b227c216-2972-49a4-8451-9ca0be7bd626",
   "metadata": {},
   "source": [
    "# Data preprocessing\n",
    "\n",
    "- Treat out null values\n",
    "- Treat outliers\n",
    "- one-hot encode our categorical columns (gender, education, job title)\n",
    "- "
   ]
  }
 ],
 "metadata": {
  "kernelspec": {
   "display_name": "Python 3 (ipykernel)",
   "language": "python",
   "name": "python3"
  },
  "language_info": {
   "codemirror_mode": {
    "name": "ipython",
    "version": 3
   },
   "file_extension": ".py",
   "mimetype": "text/x-python",
   "name": "python",
   "nbconvert_exporter": "python",
   "pygments_lexer": "ipython3",
   "version": "3.10.13"
  }
 },
 "nbformat": 4,
 "nbformat_minor": 5
}
